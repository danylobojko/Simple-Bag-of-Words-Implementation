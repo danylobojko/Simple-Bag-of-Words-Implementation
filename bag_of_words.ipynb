{
 "cells": [
  {
   "cell_type": "markdown",
   "id": "41fe21fb-9bb1-4858-bda0-fe37b794f6ed",
   "metadata": {},
   "source": [
    "# Importing modules "
   ]
  },
  {
   "cell_type": "code",
   "execution_count": 54,
   "id": "f0bab3e8-e8d0-457d-8dd3-d2081022f808",
   "metadata": {},
   "outputs": [],
   "source": [
    "import numpy as np\n",
    "import pandas as pd\n",
    "import matplotlib.pyplot as plt\n",
    "\n",
    "import re\n",
    "import nltk\n",
    "# nltk.download('stopwords')\n",
    "from nltk.corpus import stopwords\n",
    "from nltk.stem.porter import PorterStemmer\n",
    "\n",
    "from sklearn.feature_extraction.text import CountVectorizer\n",
    "from sklearn.model_selection import train_test_split\n",
    "from sklearn.metrics import accuracy_score, f1_score, precision_score, recall_score, confusion_matrix\n",
    "from sklearn.naive_bayes import GaussianNB, MultinomialNB\n",
    "from sklearn.tree import DecisionTreeClassifier\n",
    "from sklearn.svm import SVC\n",
    "from sklearn.linear_model import LogisticRegression"
   ]
  },
  {
   "cell_type": "markdown",
   "id": "401ca93b-203e-4535-ad1c-d262b0ae2010",
   "metadata": {},
   "source": [
    "# Loading the dataset"
   ]
  },
  {
   "cell_type": "code",
   "execution_count": 2,
   "id": "3ec68de7-ec06-410b-b5c7-18cdf2d1d132",
   "metadata": {},
   "outputs": [],
   "source": [
    "dataset = pd.read_csv('Restaurant_Reviews.tsv', delimiter='\\t', quoting=3)"
   ]
  },
  {
   "cell_type": "markdown",
   "id": "0b9304ab-4846-4b52-8627-0d817f04999d",
   "metadata": {},
   "source": [
    "# Cleaning the data"
   ]
  },
  {
   "cell_type": "code",
   "execution_count": 10,
   "id": "c396603c-4410-48f1-bd12-52fcfeb97bea",
   "metadata": {},
   "outputs": [],
   "source": [
    "all_stopwords = stopwords.words('english')\n",
    "stopwords_to_remove = [\n",
    "    'no', 'not', 'nor', 'never', 'none', 'nothing', 'nowhere', 'nobody', \n",
    "    \"isn't\", \"aren't\", \"wasn't\", \"weren't\", \n",
    "    \"haven't\", \"hasn't\", \"hadn't\", \n",
    "    \"won't\", \"wouldn't\", \"shouldn't\", \n",
    "    \"can't\", \"cannot\", \"couldn't\", \n",
    "    \"don't\", \"doesn't\", \"didn't\", \n",
    "    \"mustn't\"\n",
    "]\n",
    "for sw in stopwords_to_remove:\n",
    "    if sw in all_stopwords:\n",
    "        all_stopwords.remove(sw)\n",
    "\n",
    "corpus = []\n",
    "for i in range(0, 1000):\n",
    "    review = re.sub('[^a-zA-z]', ' ', dataset['Review'][i])\n",
    "    review = review.lower()\n",
    "    review = review.split()\n",
    "    ps = PorterStemmer()\n",
    "    review = [ps.stem(word) for word in review if word not in set(all_stopwords)]\n",
    "    review = ' '.join(review)\n",
    "    corpus.append(review)"
   ]
  },
  {
   "cell_type": "markdown",
   "id": "12220ab1-ded7-4578-9120-6d0f4fc1c03f",
   "metadata": {},
   "source": [
    "# Creating the Bag of Words model"
   ]
  },
  {
   "cell_type": "code",
   "execution_count": 16,
   "id": "69784851-3736-4908-b06d-1014413618a1",
   "metadata": {},
   "outputs": [],
   "source": [
    "cv = CountVectorizer()\n",
    "X = cv.fit_transform(corpus).toarray()\n",
    "y = dataset.iloc[:, -1].values"
   ]
  },
  {
   "cell_type": "code",
   "execution_count": 25,
   "id": "c2f3d1cf-0abd-460f-8e2b-604599019440",
   "metadata": {},
   "outputs": [
    {
     "name": "stdout",
     "output_type": "stream",
     "text": [
      "[0 0 0 ... 0 0 0]\n"
     ]
    }
   ],
   "source": [
    "print(X[0])"
   ]
  },
  {
   "cell_type": "markdown",
   "id": "bba4f380-87d4-414a-ae52-314559c22e75",
   "metadata": {},
   "source": [
    "# Model training"
   ]
  },
  {
   "cell_type": "code",
   "execution_count": 39,
   "id": "16f0fc2d-39ee-40f9-931e-306c9c9d6dfd",
   "metadata": {},
   "outputs": [],
   "source": [
    "def modeling(model, X, y):\n",
    "    # train-test spliting\n",
    "    X_train, X_test, y_train, y_test = train_test_split(X, y, test_size=0.2, random_state=42)\n",
    "\n",
    "    # training\n",
    "    model.fit(X_train, y_train)\n",
    "\n",
    "    # predicting\n",
    "    y_pred = model.predict(X_test)\n",
    "\n",
    "    print('Results:')\n",
    "    print('1. Accuracy -->', accuracy_score(y_test, y_pred))\n",
    "    print('2. Precision -->', precision_score(y_test, y_pred))\n",
    "    print('3. Recall -->', recall_score(y_test, y_pred))\n",
    "    print('4. F1-score -->', f1_score(y_test, y_pred))\n",
    "    print('--------------------------------')\n",
    "    print('Confusion Matrix:\\n', confusion_matrix(y_test, y_pred))"
   ]
  },
  {
   "cell_type": "markdown",
   "id": "8d8e1941-93b1-4c06-a719-bf6df564beca",
   "metadata": {},
   "source": [
    "# Model prediction"
   ]
  },
  {
   "cell_type": "code",
   "execution_count": 40,
   "id": "9c2642bf-ec7e-4195-9359-e65a8c0d326e",
   "metadata": {},
   "outputs": [
    {
     "name": "stdout",
     "output_type": "stream",
     "text": [
      "Results:\n",
      "1. Accuracy --> 0.67\n",
      "2. Precision --> 0.6417910447761194\n",
      "3. Recall --> 0.8269230769230769\n",
      "4. F1-score --> 0.7226890756302521\n",
      "--------------------------------\n",
      "Confusion Matrix:\n",
      " [[48 48]\n",
      " [18 86]]\n"
     ]
    }
   ],
   "source": [
    "model = GaussianNB()\n",
    "modeling(model, X, y)"
   ]
  },
  {
   "cell_type": "code",
   "execution_count": 42,
   "id": "8bafd1a5-5b1c-44ab-a75f-e6382be89bee",
   "metadata": {},
   "outputs": [
    {
     "name": "stdout",
     "output_type": "stream",
     "text": [
      "Results:\n",
      "1. Accuracy --> 0.76\n",
      "2. Precision --> 0.8043478260869565\n",
      "3. Recall --> 0.7115384615384616\n",
      "4. F1-score --> 0.7551020408163265\n",
      "--------------------------------\n",
      "Confusion Matrix:\n",
      " [[78 18]\n",
      " [30 74]]\n"
     ]
    }
   ],
   "source": [
    "model = MultinomialNB()\n",
    "modeling(model, X, y)"
   ]
  },
  {
   "cell_type": "code",
   "execution_count": 45,
   "id": "60e74b57-e0d3-4a5b-ba92-69ccea7818a7",
   "metadata": {},
   "outputs": [
    {
     "name": "stdout",
     "output_type": "stream",
     "text": [
      "Results:\n",
      "1. Accuracy --> 0.75\n",
      "2. Precision --> 0.7872340425531915\n",
      "3. Recall --> 0.7115384615384616\n",
      "4. F1-score --> 0.7474747474747475\n",
      "--------------------------------\n",
      "Confusion Matrix:\n",
      " [[76 20]\n",
      " [30 74]]\n"
     ]
    }
   ],
   "source": [
    "model = DecisionTreeClassifier()\n",
    "modeling(model, X, y)"
   ]
  },
  {
   "cell_type": "code",
   "execution_count": 53,
   "id": "9a87c5aa-b057-4870-a9a8-34c3bfb56c15",
   "metadata": {},
   "outputs": [
    {
     "name": "stdout",
     "output_type": "stream",
     "text": [
      "Results:\n",
      "1. Accuracy --> 0.76\n",
      "2. Precision --> 0.8043478260869565\n",
      "3. Recall --> 0.7115384615384616\n",
      "4. F1-score --> 0.7551020408163265\n",
      "--------------------------------\n",
      "Confusion Matrix:\n",
      " [[78 18]\n",
      " [30 74]]\n"
     ]
    }
   ],
   "source": [
    "model = SVC(kernel='linear')\n",
    "modeling(model, X, y)"
   ]
  },
  {
   "cell_type": "code",
   "execution_count": 55,
   "id": "bd47f33a-0590-4b26-9e84-5ac7a4250ab3",
   "metadata": {},
   "outputs": [
    {
     "name": "stdout",
     "output_type": "stream",
     "text": [
      "Results:\n",
      "1. Accuracy --> 0.78\n",
      "2. Precision --> 0.8488372093023255\n",
      "3. Recall --> 0.7019230769230769\n",
      "4. F1-score --> 0.7684210526315789\n",
      "--------------------------------\n",
      "Confusion Matrix:\n",
      " [[83 13]\n",
      " [31 73]]\n"
     ]
    }
   ],
   "source": [
    "model = LogisticRegression(random_state=42)\n",
    "modeling(model, X, y)"
   ]
  }
 ],
 "metadata": {
  "kernelspec": {
   "display_name": "Python 3 (ipykernel)",
   "language": "python",
   "name": "python3"
  },
  "language_info": {
   "codemirror_mode": {
    "name": "ipython",
    "version": 3
   },
   "file_extension": ".py",
   "mimetype": "text/x-python",
   "name": "python",
   "nbconvert_exporter": "python",
   "pygments_lexer": "ipython3",
   "version": "3.11.5"
  }
 },
 "nbformat": 4,
 "nbformat_minor": 5
}
